{
 "cells": [
  {
   "cell_type": "code",
   "execution_count": 203,
   "id": "d0835784",
   "metadata": {},
   "outputs": [],
   "source": [
    "import pandas as pd\n",
    "import numpy as np\n",
    "import os\n",
    "import tensorflow as tf\n",
    "from PIL import Image\n"
   ]
  },
  {
   "cell_type": "code",
   "execution_count": 204,
   "id": "4ba9d592",
   "metadata": {},
   "outputs": [
    {
     "name": "stdout",
     "output_type": "stream",
     "text": [
      "                                 image_path   label\n",
      "0          damage\\-93.528502_30.987438.jpeg  damage\n",
      "1            damage\\-93.5302_30.988157.jpeg  damage\n",
      "2  damage\\-93.53950999999999_30.982944.jpeg  damage\n",
      "3          damage\\-93.539521_30.982434.jpeg  damage\n",
      "4          damage\\-93.540151_30.982689.jpeg  damage\n"
     ]
    }
   ],
   "source": [
    "folders = [\"damage\", \"no_damage\"]\n",
    "\n",
    "data = []\n",
    "for folder in folders:\n",
    "    folder_path = folder\n",
    "    for fname in os.listdir(folder_path):\n",
    "        if fname.lower().endswith((\".jpg\", \".jpeg\", \".png\")):\n",
    "            data.append({\n",
    "                \"image_path\": os.path.join(folder_path, fname),\n",
    "                \"label\": folder\n",
    "            })\n",
    "\n",
    "data = pd.DataFrame(data)\n",
    "print(data.head())"
   ]
  },
  {
   "cell_type": "code",
   "execution_count": 205,
   "id": "07417472",
   "metadata": {},
   "outputs": [
    {
     "name": "stdout",
     "output_type": "stream",
     "text": [
      "<class 'pandas.core.frame.DataFrame'>\n",
      "RangeIndex: 21322 entries, 0 to 21321\n",
      "Data columns (total 2 columns):\n",
      " #   Column      Non-Null Count  Dtype \n",
      "---  ------      --------------  ----- \n",
      " 0   image_path  21322 non-null  object\n",
      " 1   label       21322 non-null  object\n",
      "dtypes: object(2)\n",
      "memory usage: 333.3+ KB\n"
     ]
    }
   ],
   "source": [
    "data.info()"
   ]
  },
  {
   "cell_type": "code",
   "execution_count": 206,
   "id": "41a1a116",
   "metadata": {},
   "outputs": [
    {
     "data": {
      "text/plain": [
       "np.int64(0)"
      ]
     },
     "execution_count": 206,
     "metadata": {},
     "output_type": "execute_result"
    }
   ],
   "source": [
    "data.duplicated().sum()"
   ]
  },
  {
   "cell_type": "code",
   "execution_count": 207,
   "id": "fca83878",
   "metadata": {},
   "outputs": [
    {
     "data": {
      "text/plain": [
       "42644"
      ]
     },
     "execution_count": 207,
     "metadata": {},
     "output_type": "execute_result"
    }
   ],
   "source": [
    "data.size"
   ]
  },
  {
   "cell_type": "code",
   "execution_count": 208,
   "id": "5770461d",
   "metadata": {},
   "outputs": [
    {
     "data": {
      "text/plain": [
       "(128, 128)"
      ]
     },
     "execution_count": 208,
     "metadata": {},
     "output_type": "execute_result"
    }
   ],
   "source": [
    "img = Image.open(\"damage/-93.795_30.03779.jpeg\")\n",
    "img.size\n"
   ]
  },
  {
   "cell_type": "code",
   "execution_count": 209,
   "id": "a51f8ee2",
   "metadata": {},
   "outputs": [
    {
     "data": {
      "text/plain": [
       "0           damage\n",
       "1           damage\n",
       "2           damage\n",
       "3           damage\n",
       "4           damage\n",
       "           ...    \n",
       "21317    no_damage\n",
       "21318    no_damage\n",
       "21319    no_damage\n",
       "21320    no_damage\n",
       "21321    no_damage\n",
       "Name: label, Length: 21322, dtype: object"
      ]
     },
     "execution_count": 209,
     "metadata": {},
     "output_type": "execute_result"
    }
   ],
   "source": [
    "data[\"label\"]"
   ]
  },
  {
   "cell_type": "code",
   "execution_count": 210,
   "id": "36a07e70",
   "metadata": {},
   "outputs": [],
   "source": [
    "data['label'] = data['label'].astype(\"string\")\n",
    "data = pd.get_dummies(data, columns=[\"label\"], drop_first=True)"
   ]
  },
  {
   "cell_type": "code",
   "execution_count": 211,
   "id": "6c65c177",
   "metadata": {},
   "outputs": [
    {
     "data": {
      "text/plain": [
       "Index(['image_path', 'label_no_damage'], dtype='object')"
      ]
     },
     "execution_count": 211,
     "metadata": {},
     "output_type": "execute_result"
    }
   ],
   "source": [
    "data.columns"
   ]
  },
  {
   "cell_type": "code",
   "execution_count": 212,
   "id": "2fe16a49",
   "metadata": {},
   "outputs": [
    {
     "data": {
      "text/plain": [
       "<bound method NDFrame.head of                                          image_path  label_no_damage\n",
       "0                  damage\\-93.528502_30.987438.jpeg            False\n",
       "1                    damage\\-93.5302_30.988157.jpeg            False\n",
       "2          damage\\-93.53950999999999_30.982944.jpeg            False\n",
       "3                  damage\\-93.539521_30.982434.jpeg            False\n",
       "4                  damage\\-93.540151_30.982689.jpeg            False\n",
       "...                                             ...              ...\n",
       "21317  no_damage\\-97.001436_28.876759999999997.jpeg             True\n",
       "21318   no_damage\\-97.00144_28.622428999999997.jpeg             True\n",
       "21319  no_damage\\-97.001677_28.864984000000003.jpeg             True\n",
       "21320  no_damage\\-97.001948_28.633053999999998.jpeg             True\n",
       "21321  no_damage\\-97.001979_28.623572999999997.jpeg             True\n",
       "\n",
       "[21322 rows x 2 columns]>"
      ]
     },
     "execution_count": 212,
     "metadata": {},
     "output_type": "execute_result"
    }
   ],
   "source": [
    "data.head"
   ]
  },
  {
   "cell_type": "code",
   "execution_count": 213,
   "id": "651c4aaf",
   "metadata": {},
   "outputs": [
    {
     "name": "stdout",
     "output_type": "stream",
     "text": [
      "<class 'pandas.core.frame.DataFrame'>\n",
      "RangeIndex: 21322 entries, 0 to 21321\n",
      "Data columns (total 2 columns):\n",
      " #   Column           Non-Null Count  Dtype \n",
      "---  ------           --------------  ----- \n",
      " 0   image_path       21322 non-null  object\n",
      " 1   label_no_damage  21322 non-null  int64 \n",
      "dtypes: int64(1), object(1)\n",
      "memory usage: 333.3+ KB\n"
     ]
    },
    {
     "data": {
      "text/plain": [
       "image_path         0\n",
       "label_no_damage    0\n",
       "dtype: int64"
      ]
     },
     "execution_count": 213,
     "metadata": {},
     "output_type": "execute_result"
    }
   ],
   "source": [
    "data['label_no_damage'] = data['label_no_damage'].apply(lambda x: 1 if x == False else 0)\n",
    "data.info()\n",
    "data.isna().sum()"
   ]
  },
  {
   "cell_type": "code",
   "execution_count": 214,
   "id": "dbfe5301",
   "metadata": {},
   "outputs": [
    {
     "data": {
      "text/plain": [
       "<bound method NDFrame.head of                                          image_path  label_no_damage\n",
       "0                  damage\\-93.528502_30.987438.jpeg                1\n",
       "1                    damage\\-93.5302_30.988157.jpeg                1\n",
       "2          damage\\-93.53950999999999_30.982944.jpeg                1\n",
       "3                  damage\\-93.539521_30.982434.jpeg                1\n",
       "4                  damage\\-93.540151_30.982689.jpeg                1\n",
       "...                                             ...              ...\n",
       "21317  no_damage\\-97.001436_28.876759999999997.jpeg                0\n",
       "21318   no_damage\\-97.00144_28.622428999999997.jpeg                0\n",
       "21319  no_damage\\-97.001677_28.864984000000003.jpeg                0\n",
       "21320  no_damage\\-97.001948_28.633053999999998.jpeg                0\n",
       "21321  no_damage\\-97.001979_28.623572999999997.jpeg                0\n",
       "\n",
       "[21322 rows x 2 columns]>"
      ]
     },
     "execution_count": 214,
     "metadata": {},
     "output_type": "execute_result"
    }
   ],
   "source": [
    "data.head"
   ]
  },
  {
   "cell_type": "markdown",
   "id": "7a05ec93",
   "metadata": {},
   "source": [
    "Damage is 1, no damage is 0"
   ]
  },
  {
   "cell_type": "code",
   "execution_count": 215,
   "id": "1835fe48",
   "metadata": {},
   "outputs": [],
   "source": [
    "from sklearn.model_selection import train_test_split, GridSearchCV\n",
    "\n",
    "X = data.drop([\"label_no_damage\"], axis = 1)\n",
    "Y = data[\"label_no_damage\"]\n",
    "X_train, X_test, Y_train, Y_test = train_test_split(X, Y, test_size=0.3, stratify=Y, random_state=1)"
   ]
  },
  {
   "cell_type": "code",
   "execution_count": 216,
   "id": "c6c80038",
   "metadata": {},
   "outputs": [
    {
     "data": {
      "text/plain": [
       "0                    damage\\-93.528502_30.987438.jpeg\n",
       "1                      damage\\-93.5302_30.988157.jpeg\n",
       "2            damage\\-93.53950999999999_30.982944.jpeg\n",
       "3                    damage\\-93.539521_30.982434.jpeg\n",
       "4                    damage\\-93.540151_30.982689.jpeg\n",
       "                             ...                     \n",
       "21317    no_damage\\-97.001436_28.876759999999997.jpeg\n",
       "21318     no_damage\\-97.00144_28.622428999999997.jpeg\n",
       "21319    no_damage\\-97.001677_28.864984000000003.jpeg\n",
       "21320    no_damage\\-97.001948_28.633053999999998.jpeg\n",
       "21321    no_damage\\-97.001979_28.623572999999997.jpeg\n",
       "Name: image_path, Length: 21322, dtype: string"
      ]
     },
     "execution_count": 216,
     "metadata": {},
     "output_type": "execute_result"
    }
   ],
   "source": [
    "data['image_path'] = data['image_path'].astype(\"string\")\n",
    "data['image_path']"
   ]
  },
  {
   "cell_type": "code",
   "execution_count": null,
   "id": "76e635be",
   "metadata": {},
   "outputs": [],
   "source": [
    "path_ds = tf.data.Dataset.from_tensor_slices(data['image_path']) # instead of image_path xtrain xtest ytrain ytest\n",
    "# Step 2: Define a function to load and preprocess images\n",
    "def load_and_preprocess_image(path):\n",
    "    img = tf.io.read_file(path)\n",
    "    img = tf.image.decode_jpeg(img, channels=3)\n",
    "    img = tf.image.resize(img, [128, 128])\n",
    "    img = tf.cast(img, tf.float32) / 255.0\n",
    "    return img, path  # keep path for filename\n",
    "# Step 3: Apply preprocessing to all paths\n",
    "image_ds = path_ds.map(load_and_preprocess_image, num_parallel_calls=tf.data.AUTOTUNE)\n",
    "# Step 4: Convert the TensorFlow dataset to numpy arrays\n",
    "images, paths = zip(*[(img.numpy(), p.numpy().decode(\"utf-8\")) for img, p in image_ds])\n",
    "# Step 5: Flatten image tensors and build a pandas DataFrame\n",
    "image_arrays = [img.reshape(-1) for img in images]\n",
    "df = pd.DataFrame(image_arrays)\n",
    "df[\"filename\"] = [os.path.basename(p) for p in paths]\n",
    "print(df.shape)\n",
    "df.head()"
   ]
  },
  {
   "cell_type": "code",
   "execution_count": null,
   "id": "9facae32",
   "metadata": {},
   "outputs": [],
   "source": [
    "#ANN\n",
    "from tensorflow.keras import Sequential\n",
    "from tensorflow.keras.layers import Dense\n",
    "\n",
    "image_size=128*128\n",
    "\n",
    "# create model\n",
    "model = Sequential()\n",
    "# input layer\n",
    "model.add(Dense(49152, activation='relu',input_shape=(image_size,)))\n",
    "\n",
    "# Hidden layers\n",
    "model.add(Dense(6767, activation='relu'))\n",
    "model.add(Dense(676, activation='relu'))\n",
    "\n",
    "# Softmax activation function is selected for multiclass classification\n",
    "model.add(Dense(2, activation='sigmoid'))"
   ]
  },
  {
   "cell_type": "code",
   "execution_count": null,
   "id": "930f8bac",
   "metadata": {},
   "outputs": [],
   "source": [
    "model.compile(optimizer='adam', loss='categorical_crossentropy', metrics=['accuracy'])\n",
    "model.fit(X_train, Y_train, validation_split=0.2, epochs=5, batch_size=128, verbose=2)"
   ]
  },
  {
   "cell_type": "code",
   "execution_count": null,
   "id": "fea256fa",
   "metadata": {},
   "outputs": [],
   "source": []
  }
 ],
 "metadata": {
  "kernelspec": {
   "display_name": "Python 3",
   "language": "python",
   "name": "python3"
  },
  "language_info": {
   "codemirror_mode": {
    "name": "ipython",
    "version": 3
   },
   "file_extension": ".py",
   "mimetype": "text/x-python",
   "name": "python",
   "nbconvert_exporter": "python",
   "pygments_lexer": "ipython3",
   "version": "3.11.0"
  }
 },
 "nbformat": 4,
 "nbformat_minor": 5
}
